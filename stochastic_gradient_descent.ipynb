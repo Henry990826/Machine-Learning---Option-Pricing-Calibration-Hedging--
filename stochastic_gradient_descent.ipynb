{
 "cells": [
  {
   "cell_type": "markdown",
   "metadata": {},
   "source": [
    "# Illustrations for Gradient Descent\n",
    "Author: Joerg Kienitz (finciraptor.de, https://github.com/Lapsilago) for the workshop Machine Learning for Option Pricing, Calibration and Hedging Workshop with Nikolai Nowaczyk ( https://github.com/niknow; https://github.com/niknow/machine-learning-examples )"
   ]
  },
  {
   "cell_type": "code",
   "execution_count": 3,
   "metadata": {},
   "outputs": [],
   "source": [
    "%matplotlib inline\n",
    "import numpy as np\n",
    "import scipy as sp\n",
    "import matplotlib.pyplot as plt\n",
    "import random\n",
    "from scipy import stats\n",
    "from scipy.optimize import fmin"
   ]
  },
  {
   "cell_type": "markdown",
   "metadata": {},
   "source": [
    "### Gradient Descent"
   ]
  },
  {
   "cell_type": "markdown",
   "metadata": {},
   "source": [
    "<b>Gradient descent</b>, also known as <b>steepest descent</b>, is an optimization technique that finds a local minimum of a function. \n",
    "To find it, the function \"steps\" in the  direction of the steepest negative direction of the gradient.\n",
    "The algorithm of gradient descent can be outlined as follows:\n",
    "\n",
    "&nbsp;&nbsp;&nbsp; 1: &nbsp; Choose initial guess $x_0$ <br>\n",
    "&nbsp;&nbsp;&nbsp;    2: &nbsp; <b>for</b> k = 0, 1, 2, ... <b>do</b> <br>\n",
    "&nbsp;&nbsp;&nbsp;    3:   &nbsp;&nbsp;&nbsp;&nbsp;&nbsp; $grad_k$ = -$grad f(x_k)$ <br>\n",
    "&nbsp;&nbsp;&nbsp;    4:   &nbsp;&nbsp;&nbsp;&nbsp;&nbsp; choose $\\alpha_k$ to minimize $f(x_k+\\alpha_k grad_k)$ <br>\n",
    "&nbsp;&nbsp;&nbsp;    5:   &nbsp;&nbsp;&nbsp;&nbsp;&nbsp; $x_{k+1} = x_k + \\alpha_k grad_k$ <br>\n",
    "&nbsp;&nbsp;&nbsp;    6: &nbsp;  <b>end for</b>"
   ]
  },
  {
   "cell_type": "markdown",
   "metadata": {},
   "source": [
    "As a simple example, let's find a local minimum for the function $f(x) = x^4-2x^2 - 0.5 x+2 + \\sin(x)^2$"
   ]
  },
  {
   "cell_type": "code",
   "execution_count": 4,
   "metadata": {},
   "outputs": [],
   "source": [
    "f = lambda x: x**4-2*x**2 - 0.5*x + 2 + np.sin(x)**2"
   ]
  },
  {
   "cell_type": "code",
   "execution_count": 5,
   "metadata": {},
   "outputs": [
    {
     "data": {
      "image/png": "[encoded data removed]",
      "text/plain": [
       "<Figure size 432x288 with 1 Axes>"
      ]
     },
     "metadata": {},
     "output_type": "display_data"
    }
   ],
   "source": [
    "x = np.linspace(-2,2.5,1000)\n",
    "plt.plot(x,f(x))\n",
    "plt.xlim([-2,2.5])\n",
    "plt.ylim([0,5])\n",
    "plt.show()"
   ]
  },
  {
   "cell_type": "markdown",
   "metadata": {},
   "source": [
    "We can see from plot above that our local minimum is gonna be near around 1.0 but let's pretend that we don't know that, so we set our starting point (arbitrarily, in this case) at $x_0 = 2$"
   ]
  },
  {
   "cell_type": "code",
   "execution_count": 6,
   "metadata": {},
   "outputs": [
    {
     "name": "stdout",
     "output_type": "stream",
     "text": [
      "Local minimum calculated (x value): 0.9374670913810693\n",
      "Number of steps to convergence: 49\n"
     ]
    }
   ],
   "source": [
    "# hands on simple implementation of the gradient descent algorithm\n",
    "w_0 = 2               # The algorithm starts at x=2\n",
    "alpha = 0.1           # learning rate / step size\n",
    "precision = 0.0001    # break criteria\n",
    "n_steps = 100         # break criteria\n",
    "\n",
    "x_list, y_list = [w_0], [f(w_0)]\n",
    "\n",
    "# returns the value of the derivative of our function\n",
    "def f_prime(x):\n",
    "    return 4*x**3-4*x - 0.5 + 2 * np.sin(x) * np.cos(x)\n",
    "\n",
    "n = 0                 # number of iterations\n",
    "x_old = w_0           # set the starting value\n",
    "\n",
    "# first iteration to find the new value\n",
    "ngrad = -f_prime(x_old)        # gradient calculation\n",
    "x_new = x_old + alpha * ngrad  # the newly suggested value\n",
    "\n",
    "while (abs(x_new - x_old) > precision) and (n<n_steps-1):   # stopping criteria\n",
    "    n = n+1                         # increase iterations\n",
    "    x_old = x_new                   # store current x value\n",
    "    ngrad = -f_prime(x_old)          # gradient calculation\n",
    "    x_new = x_old + alpha * ngrad   # the newly suggested value \n",
    "    x_list.append(x_new)            # append for plotting \n",
    "    y_list.append(f(x_new))         # append for plotting\n",
    "\n",
    "# print solution\n",
    "print(\"Local minimum calculated (x value):\", x_new)\n",
    "print(\"Number of steps to convergence:\", len(x_list))"
   ]
  },
  {
   "cell_type": "markdown",
   "metadata": {},
   "source": [
    "Play around with the precision, steps and learning rate or the initial value"
   ]
  },
  {
   "cell_type": "markdown",
   "metadata": {},
   "source": [
    "The figures below show the route that was taken to find the local minimum."
   ]
  },
  {
   "cell_type": "code",
   "execution_count": 7,
   "metadata": {},
   "outputs": [
    {
     "data": {
      "image/png": "[encoded data removed]",
      "text/plain": [
       "<Figure size 1080x216 with 3 Axes>"
      ]
     },
     "metadata": {},
     "output_type": "display_data"
    }
   ],
   "source": [
    "plt.figure(figsize=[15,3])\n",
    "plt.subplot(1,3,1)\n",
    "plt.scatter(x_list,y_list,c=\"r\")\n",
    "plt.plot(x_list,y_list,c=\"r\")\n",
    "plt.plot(x,f(x), c=\"b\")\n",
    "plt.xlim([-2,2.5])\n",
    "plt.ylim([0,5])\n",
    "plt.title(\"Gradient descent\")\n",
    "plt.subplot(1,3,2)\n",
    "plt.scatter(x_list,y_list,c=\"r\")\n",
    "plt.plot(x_list,y_list,c=\"r\")\n",
    "plt.plot(x,f(x), c=\"b\")\n",
    "plt.xlim([0.9,1.2])\n",
    "plt.ylim([0,5])\n",
    "plt.title(\"Zoom around min\")\n",
    "plt.subplot(1,3,3)\n",
    "plt.scatter(x_list,y_list,c=\"r\")\n",
    "plt.plot(x_list,y_list,c=\"r\")\n",
    "plt.plot(x,f(x), c=\"b\")\n",
    "plt.xlim([-0.9,-0.6])\n",
    "plt.ylim([0,5])\n",
    "plt.title(\"Zoom around pseudo min\")\n",
    "plt.show()"
   ]
  },
  {
   "cell_type": "markdown",
   "metadata": {},
   "source": [
    "We fixed the size of the step size, aka learning rate to a constant value. This might not be the best idea and may effects the search for the minimum. An idea for improving this might be to take larger steps when far away from the minimum and smaller ones close to the minimum.  \n",
    "\n",
    "Warning: The gradient descent is not guaranteed to converge! If it converges it may not find the global minimum but got stuck in a local one!\n",
    "\n",
    "Solution: Vary the step size using adaptive methods or calculating an optimal step size!"
   ]
  },
  {
   "cell_type": "code",
   "execution_count": 8,
   "metadata": {},
   "outputs": [
    {
     "name": "stdout",
     "output_type": "stream",
     "text": [
      "Local minimum occurs at  0.937221769739723\n",
      "Number of steps: 2\n"
     ]
    }
   ],
   "source": [
    "# we setup this function to pass into the fmin algorithm\n",
    "def stepsize(n,x,s):\n",
    "    x = x + n*s\n",
    "    return f(x)\n",
    "\n",
    "w_0 = 2 # The algorithm starts at x=2\n",
    "precision = 0.00001\n",
    "n_steps = 50\n",
    "\n",
    "x_list, y_list = [w_0], [f(w_0)]\n",
    "\n",
    "# returns the value of the derivative of our function\n",
    "def f_prime(x):\n",
    "    return 4*x**3-4*x - 0.5 + 2 * np.sin(x) * np.cos(x)\n",
    "\n",
    "n = 0                 # number of iterations\n",
    "x_old = w_0           # set the starting value\n",
    "\n",
    "# first iteration to find the new value\n",
    "s_k = -f_prime(x_old)        # gradient calculation\n",
    "alpha_calc = fmin(stepsize,precision,(x_old,s_k), full_output = False, disp = False)\n",
    "x_new = x_old + alpha_calc * s_k  # the newly suggested value\n",
    "\n",
    "while (abs(x_new - x_old) > precision) and (n<n_steps-1):   # stopping criteria\n",
    "    x_old = x_new\n",
    "    s_k = -f_prime(x_old)\n",
    "    \n",
    "    # use scipy fmin function to find ideal step size.\n",
    "    alpha_calc = fmin(stepsize,precision,(x_old,s_k), full_output = False, disp = False)\n",
    "\n",
    "    x_new = x_old + alpha_calc * s_k\n",
    "    x_list.append(x_new)\n",
    "    y_list.append(f(x_new))\n",
    "    \n",
    "print(\"Local minimum occurs at \", float(x_new))\n",
    "print( \"Number of steps:\", len(x_list))"
   ]
  },
  {
   "cell_type": "markdown",
   "metadata": {},
   "source": [
    "With adaptive step sizes the method may converge faster - but finding the adaptive step size might take some computational time. In our experiment the following graphs illustrate this. "
   ]
  },
  {
   "cell_type": "code",
   "execution_count": 12,
   "metadata": {},
   "outputs": [
    {
     "data": {
      "image/png": "[encoded data removed]",
      "text/plain": [
       "<Figure size 1080x216 with 3 Axes>"
      ]
     },
     "metadata": {},
     "output_type": "display_data"
    }
   ],
   "source": [
    "plt.figure(figsize=[15,3])\n",
    "plt.subplot(1,3,1)\n",
    "plt.scatter(x_list,y_list,c=\"r\")\n",
    "plt.plot(x_list,y_list,c=\"r\")\n",
    "plt.plot(x,f(x), c=\"b\")\n",
    "plt.xlim([-2,2.5])\n",
    "plt.ylim([0,5])\n",
    "plt.title(\"Gradient descent\")\n",
    "plt.subplot(1,3,2)\n",
    "plt.scatter(x_list,y_list,c=\"r\")\n",
    "plt.plot(x_list,y_list,c=\"r\")\n",
    "plt.plot(x,f(x), c=\"b\")\n",
    "plt.xlim([0.9,1.2])\n",
    "plt.ylim([0,5])\n",
    "plt.title(\"Zoom around min\")\n",
    "plt.subplot(1,3,3)\n",
    "plt.scatter(x_list,y_list,c=\"r\")\n",
    "plt.plot(x_list,y_list,c=\"r\")\n",
    "plt.plot(x,f(x), c=\"b\")\n",
    "plt.xlim([1.3333,1.3335])\n",
    "plt.ylim([0,3])\n",
    "plt.title(\"zoomed in more\")\n",
    "plt.show()"
   ]
  },
  {
   "cell_type": "markdown",
   "metadata": {},
   "source": [
    "Another approach to update the step size is choosing a decrease constant $dec$ that shrinks the step size over time:\n",
    "$\\alpha(t+1) = \\alpha(t) / (1+t \\cdot dec)$."
   ]
  },
  {
   "cell_type": "code",
   "execution_count": 13,
   "metadata": {},
   "outputs": [
    {
     "name": "stdout",
     "output_type": "stream",
     "text": [
      "Local minimum occurs at: 0.9874558760109118\n",
      "Number of steps: 5\n"
     ]
    }
   ],
   "source": [
    "x_old = 0\n",
    "x_new = 2 # The algorithm starts at x=2\n",
    "n_k = 0.17 # step size\n",
    "precision = 0.1\n",
    "t, d = 0, 1\n",
    "\n",
    "x_list, y_list = [x_new], [f(x_new)]\n",
    "\n",
    "# returns the value of the derivative of our function\n",
    "def f_prime(x):\n",
    "    return 4*x**3-4*x - 0.5 + 2 * np.sin(x) * np.cos(x)\n",
    " \n",
    "while abs(x_new - x_old) > precision:\n",
    "    x_old = x_new\n",
    "    ngrad = -f_prime(x_old)\n",
    "    x_new = x_old + n_k * ngrad\n",
    "    x_list.append(x_new)\n",
    "    y_list.append(f(x_new))\n",
    "    n_k = n_k / (1 + t * d)\n",
    "    t += 1\n",
    "\n",
    "print(\"Local minimum occurs at:\", x_new)\n",
    "print(\"Number of steps:\", len(x_list))"
   ]
  },
  {
   "cell_type": "code",
   "execution_count": 14,
   "metadata": {},
   "outputs": [
    {
     "data": {
      "image/png": "[encoded data removed]",
      "text/plain": [
       "<Figure size 1080x216 with 3 Axes>"
      ]
     },
     "metadata": {},
     "output_type": "display_data"
    }
   ],
   "source": [
    "plt.figure(figsize=[15,3])\n",
    "plt.subplot(1,3,1)\n",
    "plt.scatter(x_list,y_list,c=\"r\")\n",
    "plt.plot(x_list,y_list,c=\"r\")\n",
    "plt.plot(x,f(x), c=\"b\")\n",
    "plt.xlim([-2,2.5])\n",
    "plt.ylim([0,5])\n",
    "plt.title(\"Gradient descent\")\n",
    "plt.subplot(1,3,2)\n",
    "plt.scatter(x_list,y_list,c=\"r\")\n",
    "plt.plot(x_list,y_list,c=\"r\")\n",
    "plt.plot(x,f(x), c=\"b\")\n",
    "plt.xlim([0.9,1.2])\n",
    "plt.ylim([0,5])\n",
    "plt.title(\"Zoom around min\")\n",
    "plt.subplot(1,3,3)\n",
    "plt.scatter(x_list,y_list,c=\"r\")\n",
    "plt.plot(x_list,y_list,c=\"r\")\n",
    "plt.plot(x,f(x), c=\"b\")\n",
    "plt.xlim([1.3333,1.3335])\n",
    "plt.ylim([0,3])\n",
    "plt.title(\"zoomed in more\")\n",
    "plt.show()"
   ]
  },
  {
   "cell_type": "markdown",
   "metadata": {},
   "source": [
    "We consider linear regression where efficient solutions exist and we do not need a numerical solver using gradient descent.\n",
    "\n",
    "We generate some data points and apply the method"
   ]
  },
  {
   "cell_type": "code",
   "execution_count": 15,
   "metadata": {
    "scrolled": true
   },
   "outputs": [
    {
     "data": {
      "image/png": "[encoded data removed]",
      "text/plain": [
       "<Figure size 432x288 with 1 Axes>"
      ]
     },
     "metadata": {},
     "output_type": "display_data"
    }
   ],
   "source": [
    "#Create data set\n",
    "u01 = [0, -0.5] + np.random.rand(50,2)\n",
    "\n",
    "data = [1, 5] + [5, 10] * u01\n",
    "\n",
    "#Plot the data\n",
    "plt.scatter(data[:, 0], data[:, 1], marker='o', c='b')\n",
    "plt.title('Example Linear Regression')\n",
    "plt.xlabel('x values')\n",
    "plt.ylabel('y values')\n",
    "plt.xlim([1,5])\n",
    "plt.ylim([0,10])\n",
    "plt.show()"
   ]
  },
  {
   "cell_type": "markdown",
   "metadata": {},
   "source": [
    "Our goal is to find the equation of the straight line $l_\\alpha(x) = \\alpha_0 + \\mu_1 x$ that best fits our data points. The function that we are trying to minimize in this case is:\n",
    "\n",
    "$Loss(\\alpha_0,\\alpha_1) = {1 \\over 2m} \\sum\\limits_{i=1}^m (l_\\mu(x_i)-y_i)^2$\n",
    "\n",
    "In this case, our gradient will be defined in two dimensions:\n",
    "\n",
    "$\\frac{\\partial}{\\partial \\alpha_0} Loss(\\alpha_0,\\alpha_1) = \\frac{1}{m}  \\sum\\limits_{i=1}^m (l_\\alpha(x_i)-y_i)$\n",
    "\n",
    "$\\frac{\\partial}{\\partial \\alpha_1} Loss(\\alpha_0,\\alpha_1) = \\frac{1}{m}  \\sum\\limits_{i=1}^m ((l_\\alpha(x_i)-y_i) \\cdot x_i)$\n",
    "\n",
    "Below, we set up our function for l, Loss and the gradient:"
   ]
  },
  {
   "cell_type": "code",
   "execution_count": 20,
   "metadata": {},
   "outputs": [],
   "source": [
    "# linear function\n",
    "l = lambda alpha_0,alpha_1,x: alpha_0 + alpha_1*x\n",
    "\n",
    "# mean squared differences\n",
    "def msqd(x,y,m,alpha_0,alpha_1):\n",
    "    returnValue = 0\n",
    "    for i in range(m):\n",
    "        returnValue += (l(alpha_0,alpha_1,x[i])-y[i])**2\n",
    "    returnValue = returnValue/(2*m)\n",
    "    return returnValue\n",
    "\n",
    "# gradients\n",
    "def grad_msqd(x,y,m,alpha_0,alpha_1):\n",
    "    returnValue = np.array([0.,0.])\n",
    "    for i in range(m):\n",
    "        returnValue[0] += (l(alpha_0,alpha_1,x[i])-y[i])\n",
    "        returnValue[1] += (l(alpha_0,alpha_1,x[i])-y[i])*x[i]\n",
    "    returnValue = returnValue/(m)\n",
    "    return returnValue"
   ]
  },
  {
   "cell_type": "code",
   "execution_count": 21,
   "metadata": {},
   "outputs": [],
   "source": [
    "# to speed up we take\n",
    "x = data[:, 0]\n",
    "y = data[:, 1]\n",
    "m = len(x)"
   ]
  },
  {
   "cell_type": "markdown",
   "metadata": {},
   "source": [
    "We run our gradient descent algorithm (without adaptive step sizes in this example):"
   ]
  },
  {
   "cell_type": "code",
   "execution_count": 26,
   "metadata": {},
   "outputs": [
    {
     "name": "stdout",
     "output_type": "stream",
     "text": [
      "Local minimum: alpha_0 = 4.601996694119921 alpha_1 = 0.17194658082243128\n",
      "No of steps 10000\n"
     ]
    }
   ],
   "source": [
    "alpha_new = np.array([4.0,0.2]) # The starting values\n",
    "alpha = 0.001                   # step size\n",
    "precision = 0.0001              # stopping rule\n",
    "n_steps = 10000                 # stopping rule\n",
    "\n",
    "num_steps = 0                   # counter for steps\n",
    "ngrad = float(\"inf\")            # stores the gradient\n",
    "\n",
    "while (np.linalg.norm(ngrad) > precision) and (num_steps < n_steps):  # for stopping\n",
    "    num_steps += 1\n",
    "    alpha_old = alpha_new                              # store the current values\n",
    "    ngrad = -grad_msqd(x,y,m,alpha_old[0],alpha_old[1])   # calculate the gradient\n",
    "    alpha_new = alpha_old + alpha * ngrad              # update due to gradient\n",
    "\n",
    "print(\"Local minimum: alpha_0 =\", alpha_new[0],\"alpha_1 =\", alpha_new[1])\n",
    "print(\"No of steps\",num_steps)"
   ]
  },
  {
   "cell_type": "markdown",
   "metadata": {},
   "source": [
    "The method is very slow indeed and depends on the chosen initial values. For comparison we may consider the values for the linear regression $\\alpha_0$ and $\\alpha_1$ that are calculated with the standard techniques..."
   ]
  },
  {
   "cell_type": "code",
   "execution_count": 27,
   "metadata": {},
   "outputs": [
    {
     "name": "stdout",
     "output_type": "stream",
     "text": [
      "Actual values for alpha are: alpha_0 = 4.822318363640957 alpha_1 = 0.11847746555299522\n"
     ]
    }
   ],
   "source": [
    "actualvalues = sp.stats.linregress(x,y)\n",
    "print(\"Actual values for alpha are:\", \"alpha_0 =\", actualvalues.intercept, \"alpha_1 =\", actualvalues.slope)"
   ]
  },
  {
   "cell_type": "code",
   "execution_count": 28,
   "metadata": {},
   "outputs": [
    {
     "data": {
      "image/png": "[encoded data removed]",
      "text/plain": [
       "<Figure size 432x288 with 1 Axes>"
      ]
     },
     "metadata": {},
     "output_type": "display_data"
    }
   ],
   "source": [
    "xx = np.linspace(0,5,1000)\n",
    "plt.scatter(data[:, 0], data[:, 1], marker='o', c='b')\n",
    "plt.plot(xx,l(alpha_new[0],alpha_new[1],xx))\n",
    "plt.plot(xx,l(actualvalues.intercept,actualvalues.slope,xx))\n",
    "plt.xlim([1,5])\n",
    "plt.ylim([0,10])\n",
    "plt.title('Linear Regression Example')\n",
    "plt.xlabel('x values')\n",
    "plt.ylabel('y values')\n",
    "plt.show()"
   ]
  },
  {
   "cell_type": "markdown",
   "metadata": {},
   "source": [
    "We calculate the gradient for every step running through the algorithm. This may not be a big issue when the dimensionality is small but think of real life situations with a large dimensionality...\n",
    "\n",
    "In machine learning, the algorithm above is often called <b>batch gradient descent</b> to contrast it with <b>mini-batch gradient descent</b> (which we will not go into here) and <b>stochastic gradient descent</b>."
   ]
  },
  {
   "cell_type": "markdown",
   "metadata": {},
   "source": [
    "### Stochastic gradient descent"
   ]
  },
  {
   "cell_type": "markdown",
   "metadata": {},
   "source": [
    "As we said above, in batch gradient descent, we must look at every example in the entire training set on every step (in cases where a training set is used for gradient descent). This can be quite slow if the training set is sufficiently large. In <b>stochastic gradient descent</b>, we update our values after looking at <i>each</i> item in the training set, so that we can start making progress right away. Recall the linear regression example above. In that example, we calculated the gradient for each of the two alpha values as follows:\n",
    "\n",
    "$\\frac{\\partial}{\\partial \\alpha_0} Loss(\\alpha_0,\\alpha_1) = \\frac{1}{m}  \\sum\\limits_{i=1}^m (l_\\alpha(x_i)-y_i)$\n",
    "\n",
    "$\\frac{\\partial}{\\partial \\theta_1} Loss(\\alpha_0,\\alpha_1) = \\frac{1}{m}  \\sum\\limits_{i=1}^m ((l_\\alpha(x_i)-y_i) \\cdot x_i)$\n",
    "\n",
    "Where $l_\\alpha(x) = \\alpha_0 + \\alpha_1 x$\n",
    "\n",
    "Then we followed this algorithm (where $\\alpha$ was a non-adapting stepsize):\n",
    "\n",
    "&nbsp;&nbsp;&nbsp; 1: &nbsp; Choose initial guess $x_0$ <br>\n",
    "&nbsp;&nbsp;&nbsp;    2: &nbsp; <b>for</b> k = 0, 1, 2, ... <b>do</b> <br>\n",
    "&nbsp;&nbsp;&nbsp;    3:   &nbsp;&nbsp;&nbsp;&nbsp;&nbsp; $grad_k$ = -$grad f(x_k)$ <br>\n",
    "&nbsp;&nbsp;&nbsp;    4:   &nbsp;&nbsp;&nbsp;&nbsp;&nbsp; $x_{k+1} = x_k + \\alpha grad_k$ <br>\n",
    "&nbsp;&nbsp;&nbsp;    5: &nbsp;  <b>end for</b>\n",
    "\n",
    "When the sample data had 15 data points as in the example above, calculating the gradient was not very costly. But for very large data sets, this would not be the case. So instead, we consider a stochastic gradient descent algorithm for simple linear regression such as the following, where m is the size of the data set:\n",
    "\n",
    "&nbsp;&nbsp;&nbsp; 1: &nbsp; Randomly shuffle the data set <br>\n",
    "&nbsp;&nbsp;&nbsp;    2: &nbsp; <b>for</b> k = 0, 1, 2, ... <b>do</b> <br>\n",
    "&nbsp;&nbsp;&nbsp;    3: &nbsp;&nbsp;&nbsp;&nbsp;&nbsp; <b>for</b> i = 1 to m <b>do</b> <br>\n",
    "&nbsp;&nbsp;&nbsp;    4:   &nbsp;&nbsp;&nbsp;&nbsp;&nbsp;&nbsp;&nbsp;&nbsp;&nbsp;&nbsp; $\\begin{bmatrix}\n",
    " \\alpha_{1} \\\\ \n",
    " \\alpha_2 \\\\ \n",
    " \\end{bmatrix}=\\begin{bmatrix}\n",
    " \\alpha_1 \\\\ \n",
    " \\alpha_2 \\\\ \n",
    " \\end{bmatrix}-\\alpha\\begin{bmatrix}\n",
    " 2(l_\\alpha(x_i)-y_i) \\\\ \n",
    " 2x_i(l_\\alpha(x_i)-y_i) \\\\ \n",
    " \\end{bmatrix}$ <br>\n",
    "&nbsp;&nbsp;&nbsp;    5: &nbsp;&nbsp;&nbsp;&nbsp;&nbsp; <b>end for</b> <br> \n",
    "&nbsp;&nbsp;&nbsp;    6: &nbsp;  <b>end for</b>\n",
    "\n",
    "With stochastic gradient descent you run through the entire data set 1 to 10 times - see value for k in the pseudocode. But it depends on how fast the data is converging and it may be chosen with regard to the number of data in the set.\n",
    "\n",
    "With BGD we must run through the entire data set before we make any progress. With SGD we make progress immediately and continue to make progress by stepping through the entire set. Therefore, SGD is often preferred when dealing with large data sets. However, to profit from the both (GD and SGD) a hybrid method called Minibatch Gradient Descent is often used!\n",
    "\n",
    "Unlike GD, SGD tends to oscillate <i>close to</i> a minimum value rather than continuously approxing it and may never converge to the minimum. One way around this is to slowly decrease the step size $\\alpha$ as the algorithm runs. However, this is less common than using a fixed $\\alpha$.\n",
    "\n",
    "Example for SGD for linear regression with 500.000 points around the line $y = 2x+17+\\epsilon$, for values of x between 0 and 100 is considered."
   ]
  },
  {
   "cell_type": "code",
   "execution_count": 29,
   "metadata": {},
   "outputs": [],
   "source": [
    "f = lambda x: x*1.35+23+np.random.randn(len(x))*10\n",
    "\n",
    "x = np.random.random(500000)*100\n",
    "y = f(x) \n",
    "m = len(y)"
   ]
  },
  {
   "cell_type": "code",
   "execution_count": 30,
   "metadata": {},
   "outputs": [],
   "source": [
    "xxnew = np.arange(0,len(x))"
   ]
  },
  {
   "cell_type": "markdown",
   "metadata": {},
   "source": [
    "We randomly shuffle around the dataset. \n",
    "Hint: In this example this step isn't strictly necessary since the data is already in a random order but for real life data this may not always be the case!"
   ]
  },
  {
   "cell_type": "code",
   "execution_count": 31,
   "metadata": {},
   "outputs": [],
   "source": [
    "from random import shuffle\n",
    "\n",
    "x_shuf = []\n",
    "y_shuf = []\n",
    "index_shuf = xxnew\n",
    "shuffle(index_shuf)\n",
    "for i in index_shuf:\n",
    "    x_shuf.append(x[i])\n",
    "    y_shuf.append(y[i])"
   ]
  },
  {
   "cell_type": "markdown",
   "metadata": {},
   "source": [
    "Now we'll setup our h function and our cost function, which we will use to check how the value is improving."
   ]
  },
  {
   "cell_type": "code",
   "execution_count": 35,
   "metadata": {},
   "outputs": [],
   "source": [
    "l = lambda alpha_0,alpha_1,x: alpha_0 + alpha_1*x\n",
    "Loss = lambda alpha_0,alpha_1, x_i, y_i: 0.5*(l(alpha_0,alpha_1,x_i)-y_i)**2"
   ]
  },
  {
   "cell_type": "markdown",
   "metadata": {},
   "source": [
    "Now we'll run our stochastic gradient descent algorithm. To see it's progress, we'll take a cost measurement at every step. Every 10,000 steps, we'll get an average cost from the last 10,000 steps and then append that to our cost_list variable. We will run through the entire list 10 times here:"
   ]
  },
  {
   "cell_type": "code",
   "execution_count": 37,
   "metadata": {},
   "outputs": [
    {
     "name": "stdout",
     "output_type": "stream",
     "text": [
      "Local minimum: alpha_0 = 22.961169591278534 alpha_1 = 1.34265986023661\n"
     ]
    }
   ],
   "source": [
    "alpha_old = np.array([0.,0.])\n",
    "alpha_new = np.array([1.,1.]) # The algorithm starts at [1,1]\n",
    "n_k = 0.000005 # step size\n",
    "\n",
    "iter_num = 0\n",
    "grad_k = np.array([float(\"inf\"),float(\"inf\")])\n",
    "sum_loss = 0\n",
    "loss_list = []\n",
    "\n",
    "for j in range(10):\n",
    "    for i in range(m):\n",
    "        iter_num += 1\n",
    "        alpha_old = alpha_new\n",
    "        grad_k[0] = (l(alpha_old[0],alpha_old[1],x[i])-y[i])\n",
    "        grad_k[1] = (l(alpha_old[0],alpha_old[1],x[i])-y[i])*x[i]\n",
    "        grad_k = (-1)*grad_k\n",
    "        alpha_new = alpha_old + n_k * grad_k\n",
    "        sum_loss += Loss(alpha_old[0],alpha_old[1],x[i],y[i])\n",
    "        if (i+1) % 10000 == 0:\n",
    "            loss_list.append(sum_loss/10000.0)\n",
    "            sum_loss = 0   \n",
    "            \n",
    "print(\"Local minimum:\", \"alpha_0 =\", alpha_new[0], \"alpha_1 =\", alpha_new[1])"
   ]
  },
  {
   "cell_type": "markdown",
   "metadata": {},
   "source": [
    "As you can see, our values for $\\alpha_0$ and $\\alpha_1$ are close to their true values of 23 and 1.35.\n",
    "\n",
    "Now, we plot our cost versus the number of iterations. As you can see, the cost goes down quickly at first, but starts to level off as we go through more iterations:"
   ]
  },
  {
   "cell_type": "code",
   "execution_count": 34,
   "metadata": {},
   "outputs": [
    {
     "data": {
      "image/png": "[encoded data removed]",
      "text/plain": [
       "<Figure size 432x288 with 1 Axes>"
      ]
     },
     "metadata": {},
     "output_type": "display_data"
    }
   ],
   "source": [
    "iterations = np.arange(len(cost_list))*10000\n",
    "plt.plot(iterations,cost_list)\n",
    "plt.xlabel(\"iterations\")\n",
    "plt.ylabel(\"avg cost\")\n",
    "plt.show()"
   ]
  },
  {
   "cell_type": "markdown",
   "metadata": {},
   "source": [
    " "
   ]
  }
 ],
 "metadata": {
  "kernelspec": {
   "display_name": "Python 3",
   "language": "python",
   "name": "python3"
  },
  "language_info": {
   "codemirror_mode": {
    "name": "ipython",
    "version": 3
   },
   "file_extension": ".py",
   "mimetype": "text/x-python",
   "name": "python",
   "nbconvert_exporter": "python",
   "pygments_lexer": "ipython3",
   "version": "3.6.4"
  }
 },
 "nbformat": 4,
 "nbformat_minor": 1
}
